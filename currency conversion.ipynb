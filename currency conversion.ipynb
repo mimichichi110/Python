{
 "cells": [
  {
   "cell_type": "code",
   "execution_count": 1,
   "id": "b7490d3b",
   "metadata": {},
   "outputs": [
    {
     "name": "stdout",
     "output_type": "stream",
     "text": [
      "Nhập số tiền USD cần đổi: 1000\n",
      "Số tiền VND tương ứng là:  23000000.0\n"
     ]
    }
   ],
   "source": [
    "a = float(input(\"Nhập số tiền USD cần đổi: \"))\n",
    "ex_rate = 23000\n",
    "\n",
    "b = a * ex_rate\n",
    "print(\"Số tiền VND tương ứng là: \", b)"
   ]
  }
 ],
 "metadata": {
  "kernelspec": {
   "display_name": "Python 3",
   "language": "python",
   "name": "python3"
  },
  "language_info": {
   "codemirror_mode": {
    "name": "ipython",
    "version": 3
   },
   "file_extension": ".py",
   "mimetype": "text/x-python",
   "name": "python",
   "nbconvert_exporter": "python",
   "pygments_lexer": "ipython3",
   "version": "3.8.8"
  }
 },
 "nbformat": 4,
 "nbformat_minor": 5
}
