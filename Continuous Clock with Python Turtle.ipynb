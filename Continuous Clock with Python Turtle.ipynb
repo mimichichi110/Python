{
 "cells": [
  {
   "cell_type": "code",
   "execution_count": 1,
   "id": "441e2b12",
   "metadata": {},
   "outputs": [],
   "source": [
    "import turtle\n",
    "\n",
    "screen = turtle.Screen()\n",
    "screen.setup(500, 500)\n",
    "clk = turtle.Turtle()\n",
    "clk.color('Green')\n",
    "clk.width(4)\n",
    "\n",
    "def draw_hour_hand():\n",
    "    '''Tạo kim giờ, phút'''\n",
    "    clk.penup()\n",
    "    clk.home()\n",
    "    clk.right(90)\n",
    "    clk.pendown()\n",
    "    clk.forward(100)\n",
    "    \n",
    "val = 0\n",
    "for i in range(12):\n",
    "    val += 1\n",
    "    clk.penup()\n",
    "    clk.setheading(-30 * (i + 3) + 75)\n",
    "    clk.forward(22)\n",
    "    clk.pendown()\n",
    "    clk.forward(15)\n",
    "    clk.penup()\n",
    "    clk.forward(20)\n",
    " \n",
    "    clk.write(str(val), align=\"center\",\n",
    "              font=(\"Arial\",\n",
    "                    12, \"normal\"))\n",
    "\n",
    "# sets position of turtle at given position\n",
    "clk.setpos(2, -112)\n",
    "clk.pendown()\n",
    "clk.width(2)\n",
    " \n",
    "clk.fillcolor('Green')\n",
    "clk.begin_fill()\n",
    "clk.circle(5)\n",
    "clk.end_fill()\n",
    "\n",
    "#Kim\n",
    "clk.penup()\n",
    "draw_hour_hand()\n",
    "clk.setpos(-20, -64)\n",
    "clk.pendown()\n",
    "clk.penup()\n",
    " \n",
    "# Write Clock by setting position\n",
    "clk.setpos(-30, -170)\n",
    "clk.pendown()\n",
    "\n",
    "clk.hideturtle()\n",
    "turtle.done()"
   ]
  },
  {
   "cell_type": "code",
   "execution_count": null,
   "id": "78257990",
   "metadata": {},
   "outputs": [],
   "source": []
  }
 ],
 "metadata": {
  "kernelspec": {
   "display_name": "Python 3",
   "language": "python",
   "name": "python3"
  },
  "language_info": {
   "codemirror_mode": {
    "name": "ipython",
    "version": 3
   },
   "file_extension": ".py",
   "mimetype": "text/x-python",
   "name": "python",
   "nbconvert_exporter": "python",
   "pygments_lexer": "ipython3",
   "version": "3.8.8"
  }
 },
 "nbformat": 4,
 "nbformat_minor": 5
}
