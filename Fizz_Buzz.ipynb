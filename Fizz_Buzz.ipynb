{
 "cells": [
  {
   "cell_type": "code",
   "execution_count": 9,
   "id": "4fef48f5",
   "metadata": {},
   "outputs": [
    {
     "name": "stdout",
     "output_type": "stream",
     "text": [
      "Nhập vào 2 số bất kỳ: 2 17\n",
      "2\n",
      "Fizz\n",
      "4\n",
      "Buzz\n",
      "Fizz\n",
      "7\n",
      "8\n",
      "Fizz\n",
      "Buzz\n",
      "11\n",
      "Fizz\n",
      "13\n",
      "14\n",
      "FizzBuzz\n",
      "16\n",
      "17\n"
     ]
    }
   ],
   "source": [
    "a = input('Nhập vào 2 số bất kỳ: ')\n",
    "a = a.split(' ')\n",
    "if int(a[1]) < int(a[0]):\n",
    "    print('Số kết thúc cần lớn hơn số bắt đầu')\n",
    "else:\n",
    "    for i in range(int(a[0]),int(a[1])+1):\n",
    "        if i % 3 == 0 and i % 5 == 0:\n",
    "            print('FizzBuzz')\n",
    "        elif i % 3 == 0 and i % 5 != 0:\n",
    "            print('Fizz')\n",
    "        elif i % 5 == 0 and i % 3 != 0:\n",
    "            print('Buzz')\n",
    "        else:\n",
    "            print(i)\n",
    "            "
   ]
  }
 ],
 "metadata": {
  "kernelspec": {
   "display_name": "Python 3",
   "language": "python",
   "name": "python3"
  },
  "language_info": {
   "codemirror_mode": {
    "name": "ipython",
    "version": 3
   },
   "file_extension": ".py",
   "mimetype": "text/x-python",
   "name": "python",
   "nbconvert_exporter": "python",
   "pygments_lexer": "ipython3",
   "version": "3.8.8"
  }
 },
 "nbformat": 4,
 "nbformat_minor": 5
}
