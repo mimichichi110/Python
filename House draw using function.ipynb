{
 "cells": [
  {
   "cell_type": "code",
   "execution_count": null,
   "id": "cd2907a3",
   "metadata": {},
   "outputs": [],
   "source": [
    "import turtle\n",
    "t = turtle.Turtle()\n",
    "\n",
    "\n",
    "def block_draw(d):\n",
    "    for i in range(2):\n",
    "        t.forward(d)\n",
    "        t.right(90)\n",
    "        t.forward(d*1.5)\n",
    "        t.right(90)\n",
    "    t.penup()\n",
    "    t.forward(d/3)\n",
    "    t.left(90)\n",
    "    t.backward(d/2)\n",
    "    t.right(90)\n",
    "    t.pendown()\n",
    "    for j in range(2):\n",
    "        t.forward(d/3)\n",
    "        t.right(90)\n",
    "        t.forward(d/2)\n",
    "        t.right(90)\n",
    "    turtle.done()\n",
    "\n",
    "\n",
    "t.penup()\n",
    "t.goto(-100,0)\n",
    "t.pendown()\n",
    "block_draw(100)\n",
    "\n",
    "t.penup()\n",
    "t.goto(0,0)\n",
    "t.pendown()\n",
    "block_draw(100)\n",
    "\n",
    "turtle.done()"
   ]
  }
 ],
 "metadata": {
  "kernelspec": {
   "display_name": "Python 3",
   "language": "python",
   "name": "python3"
  },
  "language_info": {
   "codemirror_mode": {
    "name": "ipython",
    "version": 3
   },
   "file_extension": ".py",
   "mimetype": "text/x-python",
   "name": "python",
   "nbconvert_exporter": "python",
   "pygments_lexer": "ipython3",
   "version": "3.8.8"
  }
 },
 "nbformat": 4,
 "nbformat_minor": 5
}
