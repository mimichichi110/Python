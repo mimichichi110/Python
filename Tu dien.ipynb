{
 "cells": [
  {
   "cell_type": "code",
   "execution_count": 1,
   "id": "5f6c65ff",
   "metadata": {},
   "outputs": [
    {
     "name": "stdout",
     "output_type": "stream",
     "text": [
      "['sun', 'road', 'traffic', 'desk', 'earth']\n",
      "Nghĩa tiếng Việt của:  traffic\n",
      "giao thông\n",
      "Đúng rồi!\n",
      "Bạn muốn tiếp tục chơi (y/n)?y\n",
      "Nghĩa tiếng Việt của:  earth\n",
      "trái đất\n",
      "Đúng rồi!\n",
      "Bạn muốn tiếp tục chơi (y/n)?n\n"
     ]
    }
   ],
   "source": [
    "import random\n",
    "source = {'sun':'mặt trời', 'road': 'con đường', 'traffic': 'giao thông', 'desk': 'cái bàn', 'earth': 'trái đất'}\n",
    "english = list(source.keys())\n",
    "print(english)\n",
    "\n",
    "while True:\n",
    "    computer = random.choice([i for i in english])\n",
    "    print(\"Nghĩa tiếng Việt của: \",computer)\n",
    "    user_VNese = input().lower().strip()\n",
    "    dict_VNese = source[computer]\n",
    "    if user_VNese == dict_VNese:\n",
    "        print(\"Đúng rồi!\")\n",
    "    else:\n",
    "        print(\"Chưa chính xác!\")\n",
    "    choice = input(\"Bạn muốn tiếp tục chơi (y/n)?\")\n",
    "    if choice == 'n' or choice == 'N':\n",
    "        break "
   ]
  }
 ],
 "metadata": {
  "kernelspec": {
   "display_name": "Python 3",
   "language": "python",
   "name": "python3"
  },
  "language_info": {
   "codemirror_mode": {
    "name": "ipython",
    "version": 3
   },
   "file_extension": ".py",
   "mimetype": "text/x-python",
   "name": "python",
   "nbconvert_exporter": "python",
   "pygments_lexer": "ipython3",
   "version": "3.8.8"
  }
 },
 "nbformat": 4,
 "nbformat_minor": 5
}
