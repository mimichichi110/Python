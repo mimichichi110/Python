{
 "cells": [
  {
   "cell_type": "code",
   "execution_count": 6,
   "id": "87145a8b",
   "metadata": {},
   "outputs": [
    {
     "name": "stdout",
     "output_type": "stream",
     "text": [
      "Enter a number: 3.5\n",
      "not natural number\n"
     ]
    }
   ],
   "source": [
    "num = float(input(\"Enter a number: \"))\n",
    "\n",
    "if num % 2 == 0:\n",
    "    print(\"even\")\n",
    "elif num % 2 == 1:\n",
    "    print(\"odd\")\n",
    "else:\n",
    "    print(\"not natural number\")"
   ]
  },
  {
   "cell_type": "code",
   "execution_count": null,
   "id": "9f9e536f",
   "metadata": {},
   "outputs": [],
   "source": []
  }
 ],
 "metadata": {
  "kernelspec": {
   "display_name": "Python 3",
   "language": "python",
   "name": "python3"
  },
  "language_info": {
   "codemirror_mode": {
    "name": "ipython",
    "version": 3
   },
   "file_extension": ".py",
   "mimetype": "text/x-python",
   "name": "python",
   "nbconvert_exporter": "python",
   "pygments_lexer": "ipython3",
   "version": "3.8.8"
  }
 },
 "nbformat": 4,
 "nbformat_minor": 5
}
