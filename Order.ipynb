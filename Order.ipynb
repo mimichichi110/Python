{
 "cells": [
  {
   "cell_type": "code",
   "execution_count": 2,
   "id": "457dc34a",
   "metadata": {},
   "outputs": [
    {
     "name": "stdout",
     "output_type": "stream",
     "text": [
      "Nhập số tiền đã chi tiêu: 135\n",
      "Số tiền thanh toán:  110.0\n"
     ]
    }
   ],
   "source": [
    "a = float(input(\"Nhập số tiền đã chi tiêu: \"))\n",
    "\n",
    "if a < 75:\n",
    "    discount = 0\n",
    "elif a >= 75 and a < 100:\n",
    "    discount = 15\n",
    "elif a >= 100 and a < 150:\n",
    "    discount = 25\n",
    "elif a >= 150:\n",
    "    discount = 50\n",
    "\n",
    "total = a - discount\n",
    "print(\"Số tiền thanh toán: \", total)  "
   ]
  }
 ],
 "metadata": {
  "kernelspec": {
   "display_name": "Python 3",
   "language": "python",
   "name": "python3"
  },
  "language_info": {
   "codemirror_mode": {
    "name": "ipython",
    "version": 3
   },
   "file_extension": ".py",
   "mimetype": "text/x-python",
   "name": "python",
   "nbconvert_exporter": "python",
   "pygments_lexer": "ipython3",
   "version": "3.8.8"
  }
 },
 "nbformat": 4,
 "nbformat_minor": 5
}
