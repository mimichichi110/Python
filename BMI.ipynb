{
 "cells": [
  {
   "cell_type": "code",
   "execution_count": 9,
   "id": "fc389c42",
   "metadata": {},
   "outputs": [
    {
     "name": "stdout",
     "output_type": "stream",
     "text": [
      "Nhập số cân nặng kg: 58\n",
      "Nhập số chiều cao m: 1.65\n",
      "21.30394857667585\n",
      "Bình thường\n"
     ]
    }
   ],
   "source": [
    "w = float(input(\"Nhập số cân nặng kg: \"))\n",
    "h = float(input(\"Nhập số chiều cao m: \"))\n",
    "\n",
    "BMI = w/(h*h)\n",
    "print(BMI)\n",
    "if BMI < 16:\n",
    "    print(\"Gầy cấp độ 3\")\n",
    "elif BMI >=16 and BMI < 17:\n",
    "    print(\"Gầy cấp độ 2\")\n",
    "elif BMI >= 17 and BMI < 18.5:\n",
    "    print(\"Gầy cấp độ 1\")\n",
    "elif BMI >= 18.5 and BMI < 25:\n",
    "    print(\"Bình thường\")\n",
    "elif BMI >= 25 and BMI < 30:\n",
    "    print(\"Thừa cân\")\n",
    "elif BMI >= 30 and BMI < 35:\n",
    "    print(\"Béo phì cấp độ 1\")\n",
    "elif BMI >= 35 and BMI < 40:\n",
    "    print(\"Béo phì cấp độ 2\")\n",
    "else:\n",
    "    print(\"Béo phì cấp độ 3\")"
   ]
  },
  {
   "cell_type": "code",
   "execution_count": null,
   "id": "037472a3",
   "metadata": {},
   "outputs": [],
   "source": []
  }
 ],
 "metadata": {
  "kernelspec": {
   "display_name": "Python 3",
   "language": "python",
   "name": "python3"
  },
  "language_info": {
   "codemirror_mode": {
    "name": "ipython",
    "version": 3
   },
   "file_extension": ".py",
   "mimetype": "text/x-python",
   "name": "python",
   "nbconvert_exporter": "python",
   "pygments_lexer": "ipython3",
   "version": "3.8.8"
  }
 },
 "nbformat": 4,
 "nbformat_minor": 5
}
