{
 "cells": [
  {
   "cell_type": "code",
   "execution_count": 1,
   "id": "f1d082fa",
   "metadata": {},
   "outputs": [
    {
     "name": "stdout",
     "output_type": "stream",
     "text": [
      "Enter temperature in Centigrade: 30\n",
      "Temperature in Fahrenheit is:  86.0\n"
     ]
    }
   ],
   "source": [
    "c_degree = float(input(\"Enter temperature in Centigrade: \"))\n",
    "\n",
    "f_degree = (9*(int(c_degree))/5)+32\n",
    "\n",
    "print(\"Temperature in Fahrenheit is: \", f_degree)"
   ]
  }
 ],
 "metadata": {
  "kernelspec": {
   "display_name": "Python 3",
   "language": "python",
   "name": "python3"
  },
  "language_info": {
   "codemirror_mode": {
    "name": "ipython",
    "version": 3
   },
   "file_extension": ".py",
   "mimetype": "text/x-python",
   "name": "python",
   "nbconvert_exporter": "python",
   "pygments_lexer": "ipython3",
   "version": "3.8.8"
  }
 },
 "nbformat": 4,
 "nbformat_minor": 5
}
